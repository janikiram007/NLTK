{
  "nbformat": 4,
  "nbformat_minor": 0,
  "metadata": {
    "colab": {
      "name": "Untitled17.ipynb",
      "provenance": [],
      "collapsed_sections": []
    },
    "kernelspec": {
      "name": "python3",
      "display_name": "Python 3"
    }
  },
  "cells": [
    {
      "cell_type": "code",
      "metadata": {
        "id": "SVxGDxR2L-0W",
        "colab": {
          "base_uri": "https://localhost:8080/",
          "height": 136
        },
        "outputId": "09472e4f-f536-4fba-cecc-d445fcc982d2"
      },
      "source": [
        "import string\n",
        "import nltk\n",
        "nltk.download('wordnet')\n",
        "from nltk.stem import PorterStemmer\n",
        "from nltk.stem import WordNetLemmatizer\n",
        "\n",
        "stopwords=['i', 'me', 'my', 'myself', 'we', 'our', 'ours', 'ourselves', 'you', \"you're\", \"you've\", \"you'll\", \"you'd\", 'your', 'yours', 'yourself', 'yourselves', 'he', 'him', 'his', 'himself', 'she', \"she's\", 'her', 'hers', 'herself', 'it', \"it's\", 'its', 'itself', 'they', 'them', 'their', 'theirs', 'themselves', 'what', 'which', 'who', 'whom', 'this', 'that', \"that'll\", 'these', 'those', 'am', 'is', 'are', 'was', 'were', 'be', 'been', 'being', 'have', 'has', 'had', 'having', 'do', 'does', 'did', 'doing', 'a', 'an', 'the', 'and', 'but', 'if', 'or', 'because', 'as', 'until', 'while', 'of', 'at', 'by', 'for', 'with', 'about', 'against', 'between', 'into', 'through', 'during', 'before', 'after', 'above', 'below', 'to', 'from', 'up', 'down', 'in', 'out', 'on', 'off', 'over', 'under', 'again', 'further', 'then', 'once', 'here', 'there', 'when', 'where', 'why', 'how', 'all', 'any', 'both', 'each', 'few', 'more', 'most', 'other', 'some', 'such', 'no', 'nor', 'not', 'only', 'own', 'same', 'so', 'than', 'too', 'very', 's', 't', 'can', 'will', 'just', 'don', \"don't\", 'should', \"should've\", 'now', 'd', 'll', 'm', 'o', 're', 've', 'y', 'ain', 'aren', \"aren't\", 'couldn', \"couldn't\", 'didn', \"didn't\", 'doesn', \"doesn't\", 'hadn', \"hadn't\", 'hasn', \"hasn't\", 'haven', \"haven't\", 'isn', \"isn't\", 'ma', 'mightn', \"mightn't\", 'mustn', \"mustn't\", 'needn', \"needn't\", 'shan', \"shan't\", 'shouldn', \"shouldn't\", 'wasn', \"wasn't\", 'weren', \"weren't\", 'won', \"won't\", 'wouldn', \"wouldn't\"]\n",
        "\n",
        "def process_text(text):\n",
        "    '''\n",
        "    What will be covered:\n",
        "    1.case folding\n",
        "    2.Remove punctuation\n",
        "    3.Remove stopwords\n",
        "    4.stemming and lemmatization \n",
        "    5.Return list of clean text words\n",
        "    '''\n",
        "        #1\n",
        "    text=text.casefold()\n",
        "    #2\n",
        "    nopunc = [char for char in text if char not in string.punctuation]\n",
        "    nopunc = ''.join(nopunc)\n",
        "    \n",
        "    #3\n",
        "    no_stop_words = [word for word in nopunc.split() if word.lower() not in stopwords]\n",
        "    \n",
        "    #4\n",
        "    clean_words=[]\n",
        "    porter = PorterStemmer()\n",
        "    lemmatizer = WordNetLemmatizer()\n",
        "    for word in no_stop_words:\n",
        "      wo=porter.stem(word)\n",
        "      w=lemmatizer.lemmatize(wo)\n",
        "      clean_words.append(w)\n",
        "    #5\n",
        "    return clean_words\n",
        "print(process_text(\"Let's go to Jupiter!!!!!! Yippee!\"))\n",
        "print(process_text(\"The New England Patriots won the Super Bowl\"))\n",
        "print(process_text(\" the chiefs lost on Sunday!\"))\n",
        "print(process_text(\"Where is the nearest gas station?\"))\n",
        "print(process_text(\" I want to go to New York or Texas\"))"
      ],
      "execution_count": null,
      "outputs": [
        {
          "output_type": "stream",
          "text": [
            "[nltk_data] Downloading package wordnet to /root/nltk_data...\n",
            "[nltk_data]   Package wordnet is already up-to-date!\n",
            "['let', 'go', 'jupit', 'yippe']\n",
            "['new', 'england', 'patriot', 'super', 'bowl']\n",
            "['chief', 'lost', 'sunday']\n",
            "['nearest', 'ga', 'station']\n",
            "['want', 'go', 'new', 'york', 'texa']\n"
          ],
          "name": "stdout"
        }
      ]
    }
  ]
}